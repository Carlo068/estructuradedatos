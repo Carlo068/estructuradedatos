{
  "nbformat": 4,
  "nbformat_minor": 0,
  "metadata": {
    "colab": {
      "provenance": [],
      "authorship_tag": "ABX9TyNKdklqteg+tU3F5vg9kzVV",
      "include_colab_link": true
    },
    "kernelspec": {
      "name": "python3",
      "display_name": "Python 3"
    },
    "language_info": {
      "name": "python"
    }
  },
  "cells": [
    {
      "cell_type": "markdown",
      "metadata": {
        "id": "view-in-github",
        "colab_type": "text"
      },
      "source": [
        "<a href=\"https://colab.research.google.com/github/Carlo068/estructuradedatos/blob/main/Estructura_de_Datos_Final_Carlo_Ruiz.ipynb\" target=\"_parent\"><img src=\"https://colab.research.google.com/assets/colab-badge.svg\" alt=\"Open In Colab\"/></a>"
      ]
    },
    {
      "cell_type": "markdown",
      "source": [
        "En este codigo nos preguntan por el valor sumado de lo que conformaria un nuemero entero al acomodar los numeros en ambas listas de tal manera que demos de regreso una lista con el resultado al reves.\n",
        "\n",
        "por ejemplo:\n",
        "\n",
        "Input: l1 = [2,4,3], l2 = [5,6,4]\n",
        "\n",
        "Output: [7,0,8]\n",
        "\n",
        "Explanation: 342 + 465 = 807.\n",
        "\n",
        "los pasos en que logramos un resultado en este ejercicio son:\n",
        "\n",
        "1.   primero definiremos las variables donde sumaremos los totales de cada lista ademas del contador de iteraciones\n",
        "2.   segundo crearemos 2 ciclos while en los que sumaremos los elementos de cada lista multiplicados por 10^i correspondiente a su pocision decimal.\n",
        "3.   tercero crearemos una variable donde guardemos el resultado de la suma de las listas y crearemos una variable dummy donde guardaremos el head de la lista en 0.\n",
        "4.   cuarto crearemos un ciclo while en el que vayamos obteniendo el residuo de dividir sobre 10 guardandolo en la lista y cambiando de lugar el decimal al dividir sobre 10 en cada ciclo.\n",
        "5.   quinto pasamos la lista\n",
        "\n",
        "big O = n\n",
        "\n"
      ],
      "metadata": {
        "id": "LB6rwoSmFSqM"
      }
    },
    {
      "cell_type": "code",
      "execution_count": null,
      "metadata": {
        "id": "T9ye-TzA6VUt"
      },
      "outputs": [],
      "source": [
        "class Solution:\n",
        "    def addTwoNumbers(self, l1: Optional[ListNode], l2: Optional[ListNode]) -> Optional[ListNode]:\n",
        "        suml1 = 0\n",
        "        suml2 = 0\n",
        "        i = 0\n",
        "        current = l1\n",
        "        while current:\n",
        "            suml1 = suml1 + (current.val * 10 ** i)\n",
        "            current = current.next\n",
        "            i = i+1\n",
        "        i = 0\n",
        "        current = l2\n",
        "        while current:\n",
        "            suml2 = suml2 + (current.val * 10 ** i)\n",
        "            current = current.next\n",
        "            i = i+1\n",
        "        tot = suml1 + suml2\n",
        "        dummy = ListNode(0)\n",
        "        current = dummy\n",
        "\n",
        "        if tot == 0:\n",
        "            return ListNode(0)\n",
        "\n",
        "        while tot > 0:\n",
        "            digit = tot % 10\n",
        "            current.next = ListNode(digit)\n",
        "            current = current.next\n",
        "            tot //= 10\n",
        "\n",
        "        return dummy.next"
      ]
    },
    {
      "cell_type": "code",
      "source": [
        "class Solution2:\n",
        "    def addTwoNumbers(self, l1: Optional[ListNode], l2: Optional[ListNode]) -> Optional[ListNode]:\n",
        "        dummy = ListNode(0)\n",
        "        current = dummy\n",
        "        carry = 0\n",
        "\n",
        "        while l1 or l2 or carry:\n",
        "            val1 = l1.val if l1 else 0\n",
        "            val2 = l2.val if l2 else 0\n",
        "            total = val1 + val2 + carry\n",
        "            carry = total // 10\n",
        "            current.next = ListNode(total % 10)\n",
        "            current = current.next\n",
        "\n",
        "            if l1:\n",
        "                l1 = l1.next\n",
        "            if l2:\n",
        "                l2 = l2.next\n",
        "\n",
        "        return dummy.next"
      ],
      "metadata": {
        "id": "qVjKo9J5pqvF"
      },
      "execution_count": null,
      "outputs": []
    },
    {
      "cell_type": "markdown",
      "source": [
        "En este ejercicio nos piden sacar la media de una lista de numeros ordenados, pero tenemos que acomodar ambas listas primero tal que funcione asi:\n",
        "\n",
        "ejemplo:\n",
        "\n",
        "Input: nums1 = [1,3], nums2 = [2]\n",
        "\n",
        "Output: 2.00000\n",
        "\n",
        "Explanation: merged array = [1,2,3] and median is 2.\n",
        "\n",
        "1.   primero usamos una funcion integrada para sortear las listas que nos da python y lo guardamos en una variable en este caso merge y creamos una variable que nos guarde el tamaño de la lista merge.\n",
        "\n",
        "2.   segundo utilizamos un if para revisar si el tamaño de la lista es par o impar porque de se par se promedia los 2 numeros que se encuentran enmedio de la lista y si no solo se entrega el numero de enmedio de la lista.\n",
        "\n",
        "3.   tercero retornamos la media.\n",
        "\n",
        "Big O = NLog(N)"
      ],
      "metadata": {
        "id": "Y8PZnBaSJ7Ch"
      }
    },
    {
      "cell_type": "code",
      "source": [
        "class Solution:\n",
        "    def findMedianSortedArrays(self, nums1: List[int], nums2: List[int]) -> float:\n",
        "        merge = sorted(nums1 + nums2)\n",
        "        size = len(merge)\n",
        "        if size % 2 == 0:\n",
        "            median = (merge[size//2] + merge[(size//2)-1])/2\n",
        "        else:\n",
        "            median = merge[size//2]\n",
        "\n",
        "        return median"
      ],
      "metadata": {
        "id": "ax7spsyPEbKt"
      },
      "execution_count": null,
      "outputs": []
    },
    {
      "cell_type": "code",
      "source": [
        "class Solution2:\n",
        "    def findMedianSortedArrays(self, nums1: List[int], nums2: List[int]) -> float:\n",
        "        m, n = len(nums1), len(nums2)\n",
        "        merged = []\n",
        "        i = j = 0\n",
        "\n",
        "        # Merge the two arrays\n",
        "        while i < m and j < n:\n",
        "            if nums1[i] < nums2[j]:\n",
        "                merged.append(nums1[i])\n",
        "                i += 1\n",
        "            else:\n",
        "                merged.append(nums2[j])\n",
        "                j += 1\n",
        "\n",
        "        # Append remaining elements\n",
        "        while i < m:\n",
        "            merged.append(nums1[i])\n",
        "            i += 1\n",
        "        while j < n:\n",
        "            merged.append(nums2[j])\n",
        "            j += 1\n",
        "\n",
        "        size = m + n\n",
        "        if size % 2 == 0:\n",
        "            return (merged[size // 2 - 1] + merged[size // 2]) / 2\n",
        "        else:\n",
        "            return merged[size // 2]"
      ],
      "metadata": {
        "id": "Gk6QZ9fMqKyo"
      },
      "execution_count": null,
      "outputs": []
    },
    {
      "cell_type": "markdown",
      "source": [
        "En este ejercicio tenemos que crear un tipo traductor de numeros romanos a numeros decimales.\n",
        "\n",
        "Ejemplo:\n",
        "\n",
        "Input: s = \"III\"\n",
        "\n",
        "Output: 3\n",
        "\n",
        "Explanation: III = 3.\n",
        "\n",
        "1.   definimos lo que es la variable de resultado y un diccionario en donde guardemos los numeros romanos y su representacion en decimal.\n",
        "\n",
        "2.   creamos un for en el que vamos a guardar en 2 variables el primer y el segundo caracter y los comparemos para determinar si se sumaran o se restaran al resultado, pasando a los siguientes caracteres y determinando si se suma o no. por ejemplo si tienes \"XIV\" al principio comparamos \"XI\" y determinamos que como 10 es mayor a 1 y este esta primero este se suma y luego pasas a \"IV\" y determina que 1 es menor a 5 por lo que se resta.\n",
        "\n",
        "3.   en el return sumamos el ultimo numero porque no lo habiamos sumado en el for.\n",
        "\n",
        "Big O = N"
      ],
      "metadata": {
        "id": "UAxUYI8kLuoG"
      }
    },
    {
      "cell_type": "code",
      "source": [
        "class Solution:\n",
        "    def romanToInt(self, s: str) -> int:\n",
        "        res = 0\n",
        "        roman = {\n",
        "            'I': 1,\n",
        "            'V': 5,\n",
        "            'X': 10,\n",
        "            'L': 50,\n",
        "            'C': 100,\n",
        "            'D': 500,\n",
        "            'M': 1000\n",
        "        }\n",
        "\n",
        "        for a, b in zip(s, s[1:]):\n",
        "            if roman[a] < roman[b]:\n",
        "                res -= roman[a]\n",
        "            else:\n",
        "                res += roman[a]\n",
        "\n",
        "        return res + roman[s[-1]]"
      ],
      "metadata": {
        "id": "ajAlFRWJEgtY"
      },
      "execution_count": null,
      "outputs": []
    },
    {
      "cell_type": "markdown",
      "source": [
        "En este ejercicio nos pide la suma de 3 numeros que se encuentran en una lista y que como total nos den 0.\n",
        "\n",
        "Ejemplo:\n",
        "\n",
        "Input: nums = [-1,0,1,2,-1,-4]\n",
        "\n",
        "Output: [[-1,-1,2],[-1,0,1]]\n",
        "\n",
        "Explanation:\n",
        "\n",
        "nums[0] + nums[1] + nums[2] = (-1) + 0 + 1 = 0.\n",
        "\n",
        "nums[1] + nums[2] + nums[4] = 0 + 1 + (-1) = 0.\n",
        "\n",
        "nums[0] + nums[3] + nums[4] = (-1) + 2 + (-1) = 0.\n",
        "\n",
        "The distinct triplets are [-1,0,1] and [-1,-1,2].\n",
        "\n",
        "Notice that the order of the output and the order of the triplets does not matter.\n",
        "\n",
        "1.   primero sorteamos la lista y creamos las variables de resultado y longitud de lista de numeros\n",
        "\n",
        "2.   creamos un ciclo for en el que primero compararemos por duplicados en los valores de nums[i] para evitar enviar 2 veces una lista con los mismos outputs.\n",
        "3.   creamos los valores left y right, los cuales ambos se encontraran a la derecha de i para no hacer iteraciones extra y reducir el muestreo en cada iteracion.\n",
        "4.   creamos un ciclo while en donde revisaremos si el resultado del total de la suma de nums[i] + nums[left] + nums[right] es igual a 0.\n",
        "5.   de ser igual a 0 metemos los valores en la variable resultado y le sumamos 1 a left y restamos 1 a right para comparar con numeros distintos evitando usar los mismos numeros ya usados para left y right.\n",
        "6.   de no ser igual a cero se compara para saber si es menor o mayor a este y como la lista ya esta acomodada de menor a mayor si es menor a cero le sumamos 1 a left para agarrar un numero mayor y de ser mayor le restamos 1 a right para comparar con un numero menor.\n",
        "7.   se retorna la lista con listas como resultado\n",
        "\n",
        "Big O = N^2\n"
      ],
      "metadata": {
        "id": "mmQYR8HNQxVU"
      }
    },
    {
      "cell_type": "code",
      "source": [
        "from typing import List\n",
        "\n",
        "class Solution:\n",
        "    def threeSum(self, nums: List[int]) -> List[List[int]]:\n",
        "        nums.sort()\n",
        "        result = []\n",
        "        n = len(nums)\n",
        "        for i in range(n):\n",
        "            if i > 0 and nums[i] == nums[i - 1]:\n",
        "                continue  # Skip duplicate values for i\n",
        "            left, right = i + 1, n - 1\n",
        "            while left < right:\n",
        "                total = nums[i] + nums[left] + nums[right]\n",
        "                if total == 0:\n",
        "                    result.append([nums[i], nums[left], nums[right]])\n",
        "                    left += 1\n",
        "                    right -= 1\n",
        "                    # Skip duplicates for left and right\n",
        "                    while left < right and nums[left] == nums[left - 1]:\n",
        "                        left += 1\n",
        "                    while left < right and nums[right] == nums[right + 1]:\n",
        "                        right -= 1\n",
        "                elif total < 0:\n",
        "                    left += 1\n",
        "                else:\n",
        "                    right -= 1\n",
        "        return result"
      ],
      "metadata": {
        "id": "IyHf78-MEsBf"
      },
      "execution_count": null,
      "outputs": []
    },
    {
      "cell_type": "markdown",
      "source": [
        "Big O = N^3"
      ],
      "metadata": {
        "id": "e4EHuG1CrAv9"
      }
    },
    {
      "cell_type": "code",
      "source": [
        "class Solution2:\n",
        "    def threeSum(self, nums: List[int]) -> List[List[int]]:\n",
        "        n = len(nums)\n",
        "        result = set()\n",
        "        for i in range(n):\n",
        "            for j in range(i + 1, n):\n",
        "                for k in range(j + 1, n):\n",
        "                    if nums[i] + nums[j] + nums[k] == 0:\n",
        "                        triplet = tuple(sorted([nums[i], nums[j], nums[k]]))\n",
        "                        result.add(triplet)\n",
        "        return [list(triplet) for triplet in result]"
      ],
      "metadata": {
        "id": "bz6is-Prq_N_"
      },
      "execution_count": null,
      "outputs": []
    },
    {
      "cell_type": "markdown",
      "source": [
        "En este ejercicio tenemos que juntar 2 linked list por medio de punteros y sortearlas.\n",
        "\n",
        "Ejemplo:\n",
        "\n",
        "Input: list1 = [1,2,4], list2 = [1,3,4]\n",
        "\n",
        "Output: [1,1,2,3,4,4]\n",
        "\n",
        "1. se crea un nodo dummy para inicializar lista y se crea una variable cur en donde hace la funcion de puntero a la lista creada desde el nodo dummy.\n",
        "2. se crea un ciclo while en el que se comparan los valores entre la lista 1 y la lista 2 revisando cual es mayor que el otro y asi acomodando los nodos de una lista a la lista que creamos.\n",
        "3. si es que sobran valores de alguna lista estos se agregan al final de la lista en la comparacion afuera del while.\n",
        "4. se retorna la lista despues del valor del dummy.\n",
        "\n",
        "Big O = N"
      ],
      "metadata": {
        "id": "T7rjwwm3by18"
      }
    },
    {
      "cell_type": "code",
      "source": [
        "class Solution:\n",
        "    def mergeTwoLists(self, list1: Optional[ListNode], list2: Optional[ListNode]) -> Optional[ListNode]:\n",
        "        dummy = ListNode()\n",
        "        cur = dummy\n",
        "        while list1 and list2:\n",
        "            if list1.val > list2.val:\n",
        "                cur.next = list2\n",
        "                list2 = list2.next\n",
        "            else:\n",
        "                cur.next = list1\n",
        "                list1 = list1.next\n",
        "            cur = cur.next\n",
        "        if list1:\n",
        "            cur.next = list1\n",
        "        else:\n",
        "            cur.next = list2\n",
        "        return dummy.next"
      ],
      "metadata": {
        "id": "KiUpKMIRE1UJ"
      },
      "execution_count": null,
      "outputs": []
    },
    {
      "cell_type": "markdown",
      "source": [
        "En este ejercicio se remueve un valor de una lista.\n",
        "\n",
        "Ejemplo:\n",
        "\n",
        "Input: nums = [3,2,2,3], val = 3\n",
        "\n",
        "Output: 2, nums = [2,2,_,_]\n",
        "\n",
        "Explanation: Your function should return k = 2, with the first two elements of nums being 2.\n",
        "\n",
        "It does not matter what you leave beyond the returned k (hence they are underscores).\n",
        "\n",
        "1. creamos la variable k y la inicializamos en 0.\n",
        "\n",
        "2. creamos un ciclo for en el que ponemos un contador i en el rango del tamaño de la lista.\n",
        "\n",
        "3. en el if comparamos para saber si el valor nums[i] es igual al valor esperado para si ese no es el caso ese valor de nums[i] se guardara en la misma lista pero en posicion k y esta k hara de contador de tamaño del nuevo array.\n",
        "\n",
        "4. se retorna k.\n",
        "\n",
        "Big O = N"
      ],
      "metadata": {
        "id": "TibZpWpOfgZ4"
      }
    },
    {
      "cell_type": "code",
      "source": [
        "class Solution:\n",
        "    def removeElement(self, nums: List[int], val: int) -> int:\n",
        "        k = 0\n",
        "        for i in range(len(nums)):\n",
        "            if nums[i] != val:\n",
        "                nums[k] = nums[i]\n",
        "                k += 1\n",
        "        return k"
      ],
      "metadata": {
        "id": "k5N3Z017E689"
      },
      "execution_count": null,
      "outputs": []
    },
    {
      "cell_type": "markdown",
      "source": [
        "En esta funcion removeremos los duplicados de una lista ordenada.\n",
        "\n",
        "Ejemplo:\n",
        "\n",
        "Input: nums = [1,1,2]\n",
        "\n",
        "Output: 2, nums = [1,2,_]\n",
        "\n",
        "Explanation: Your function should return k = 2, with the first two elements of nums being 1 and 2 respectively.\n",
        "\n",
        "It does not matter what you leave beyond the returned k (hence they are underscores).\n",
        "\n",
        "1. creamos i que servira de contador para el tamaño del nuevo array.\n",
        "2. creamos un ciclo for en el rango de 1 a el tamaño de la lista.\n",
        "3. se cre una comparacion para guardar los numeros no duplicados comparando con el anterior en el array.\n",
        "4. se retorna i.\n",
        "\n",
        "Big O = N\n"
      ],
      "metadata": {
        "id": "z4EXnVcRihy3"
      }
    },
    {
      "cell_type": "code",
      "source": [
        "class Solution:\n",
        "    def removeDuplicates(self, nums: List[int]) -> int:\n",
        "        i = 1\n",
        "        for j in range(1, len(nums)):\n",
        "            if nums[j] != nums[i - 1]:\n",
        "                nums[i] = nums[j]\n",
        "                i += 1\n",
        "        return i"
      ],
      "metadata": {
        "id": "qcYb2mTgE8C_"
      },
      "execution_count": null,
      "outputs": []
    },
    {
      "cell_type": "markdown",
      "source": [
        "En este ejercicio tenemos que buscar el target en el array y retornar el index en el que esta o estaria de no encontrarse en el array.\n",
        "\n",
        "Ejemplo:\n",
        "\n",
        "Input: nums = [1,3,5,6], target = 5\n",
        "Output: 2\n",
        "\n",
        "Aqui utilizaremos algo parecido a el binary search pero con una pequeña modificacion.\n",
        "\n",
        "1. creamos las variables left y right que representan a los extremos del array.\n",
        "2. creamos un ciclo while en donde crearemos la variable mid que sera el punto medio entre left y right.\n",
        "3. comparamos para ver si mid es el indice en donde se encuentra el target, si lo es se retorna mid.\n",
        "4. de mid ser mayor al target se cambia right por un numero menor al mid y compara de nuevo.\n",
        "5. de mid ser menor al target se cambia left por un numero mayor al mid y compara de nuevo.\n",
        "6. de no encontrarse el numero se retorna left que es el lugar en donde quedaria el indice\n",
        "\n",
        "Big O = N"
      ],
      "metadata": {
        "id": "A6j1B_KskG0H"
      }
    },
    {
      "cell_type": "code",
      "source": [
        "class Solution:\n",
        "    def searchInsert(self, nums: List[int], target: int) -> int:\n",
        "        left = 0\n",
        "        right = len(nums) - 1\n",
        "        while left <= right:\n",
        "            mid = (left + right) // 2\n",
        "            if nums[mid] == target:\n",
        "                return mid\n",
        "            elif nums[mid] > target:\n",
        "                right = mid - 1\n",
        "            else:\n",
        "                left = mid + 1\n",
        "        return left"
      ],
      "metadata": {
        "id": "VYovvrUuE_65"
      },
      "execution_count": null,
      "outputs": []
    },
    {
      "cell_type": "markdown",
      "source": [
        "En este ejercicio tenemos que tratar una lista como si se tratara de un numero entero y sumarle 1 a este.\n",
        "\n",
        "Ejemplo:\n",
        "\n",
        "Input: digits = [1,2,3]\n",
        "\n",
        "Output: [1,2,4]\n",
        "\n",
        "Explanation: The array represents the integer 123.\n",
        "\n",
        "Incrementing by one gives 123 + 1 = 124.\n",
        "\n",
        "Thus, the result should be [1,2,4].\n",
        "\n",
        "1. primero creamos un for en donde recorramos el tamaño del arreglo al reves.\n",
        "2. comparamos que la suma del digito no de 10 y si no da 10 se retornan los digitos con el cambio en el ultimo digito.\n",
        "3. si da 10 se retorna 10\n",
        "\n",
        "Big O = 1"
      ],
      "metadata": {
        "id": "fdyeH7XZmki-"
      }
    },
    {
      "cell_type": "code",
      "source": [
        "class Solution:\n",
        "    def plusOne(self, digits: List[int]) -> List[int]:\n",
        "        for i in range(len(digits) - 1, -1, -1):\n",
        "            if digits[i] + 1 != 10:\n",
        "                digits[i] += 1\n",
        "                return digits\n",
        "            digits[i] = 0\n",
        "            if i == 0:\n",
        "                return [1] + digits"
      ],
      "metadata": {
        "id": "uZoRUDlpFDC2"
      },
      "execution_count": null,
      "outputs": []
    },
    {
      "cell_type": "markdown",
      "source": [
        "En este ejercicio se valida si los parentesis son validos.\n",
        "\n",
        "Ejemplo:\n",
        "\n",
        "Input: s = \"()[]{}\"\n",
        "\n",
        "Output: true\n",
        "\n",
        "1. se crea una lista stack\n",
        "2. se crea un map de los parentesis y sus iguales correspondientes.\n",
        "3. se crea un for en el que tenemos el caracter en el string s\n",
        "4. se compara para saber si es un braquet de apertura o de cierre.\n",
        "5. de ser de apertura se pasa al stack\n",
        "6. en caso de ser de cierre y que no se encuentre en el top del stack o que este el correspondiente braquet en el stack este retorna falso.\n",
        "7. se regresa true si ya no hay elementos en el stack.\n",
        "\n",
        "Big O = N\n"
      ],
      "metadata": {
        "id": "tWEk0jFMtjIE"
      }
    },
    {
      "cell_type": "code",
      "source": [
        "class Solution:\n",
        "    def isValid(self, s: str) -> bool:\n",
        "        stack = []\n",
        "        mapping = {\")\":\"(\", \"}\":\"{\", \"]\":\"[\"}\n",
        "        for char in s:\n",
        "            if char in mapping.values():\n",
        "                stack.append(char)\n",
        "            elif char in mapping.keys():\n",
        "                if not stack or mapping[char] != stack.pop():\n",
        "                    return False\n",
        "        return not stack"
      ],
      "metadata": {
        "id": "giDdeoCxFKcl"
      },
      "execution_count": null,
      "outputs": []
    }
  ]
}